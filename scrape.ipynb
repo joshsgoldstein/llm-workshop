{
 "cells": [
  {
   "cell_type": "markdown",
   "metadata": {},
   "source": [
    "# Scrape and Prepare data script\n",
    "\n",
    "___"
   ]
  },
  {
   "cell_type": "markdown",
   "metadata": {},
   "source": [
    "## Index Site"
   ]
  },
  {
   "cell_type": "code",
   "execution_count": null,
   "metadata": {},
   "outputs": [],
   "source": [
    "from bs4 import BeautifulSoup\n",
    "import requests\n",
    "from os.path import join\n",
    "import time"
   ]
  },
  {
   "cell_type": "code",
   "execution_count": null,
   "metadata": {},
   "outputs": [],
   "source": [
    "base_url = 'https://docs.seldon.io/projects/seldon-core/en/v2/contents/about/index.html'"
   ]
  },
  {
   "cell_type": "code",
   "execution_count": null,
   "metadata": {},
   "outputs": [],
   "source": [
    "from bs4 import BeautifulSoup\n",
    "import urllib.request\n",
    "from os.path import join\n",
    "from urllib.parse import urlparse, urljoin\n",
    "\n",
    "\n",
    "base_url = 'https://docs.seldon.io/projects/seldon-core/en/v2'\n",
    "start_url = '/contents/about/index.html'\n",
    "\n",
    "\n",
    "def get_links(url):\n",
    "    time.sleep(0.1)\n",
    "    print('scraping, ', url)\n",
    "    html = urllib.request.urlopen(url)\n",
    "    soup = BeautifulSoup(html, 'html.parser')\n",
    "    urls = []\n",
    "    links = soup.find_all('a', class_='md-nav__link')\n",
    "    for link in links:\n",
    "        link = link.get('href')\n",
    "        if link.startswith('#'):\n",
    "            continue\n",
    "        if link.startswith('http'):\n",
    "            continue\n",
    "        full_url = urljoin(url, link)\n",
    "        urls.append(full_url)\n",
    "    return urls"
   ]
  },
  {
   "cell_type": "code",
   "execution_count": null,
   "metadata": {},
   "outputs": [],
   "source": [
    "\n",
    "seen = set([base_url + start_url])\n",
    "frontier = [base_url + start_url]\n",
    "\n",
    "while frontier:\n",
    "    url = frontier.pop()\n",
    "    links = get_links(url)\n",
    "    for url in links:\n",
    "        if url in seen:\n",
    "            continue\n",
    "        seen.add(url)\n",
    "        frontier.append(url)\n"
   ]
  },
  {
   "cell_type": "code",
   "execution_count": null,
   "metadata": {},
   "outputs": [],
   "source": [
    "with open('data/urls.txt', 'w') as f:\n",
    "    for url in seen:\n",
    "        f.write(url + '\\n')"
   ]
  },
  {
   "cell_type": "code",
   "execution_count": null,
   "metadata": {},
   "outputs": [],
   "source": [
    "with open('data/urls.txt', 'r') as f:\n",
    "    urls = f.read().splitlines()\n"
   ]
  },
  {
   "cell_type": "markdown",
   "metadata": {},
   "source": [
    "## Extract text content"
   ]
  },
  {
   "cell_type": "code",
   "execution_count": null,
   "metadata": {},
   "outputs": [],
   "source": [
    "def get_text_content(url):\n",
    "    # print('scraping, ', url)\n",
    "    data = {}\n",
    "    time.sleep(0.1)\n",
    "    html = urllib.request.urlopen(url)\n",
    "    soup = BeautifulSoup(html, 'html.parser')\n",
    "    article = soup.find_all('article', class_='md-content__inner md-typeset')[0]\n",
    "    for section in article.find_all('section'):\n",
    "        section_id = section.get('id')\n",
    "        text = section.get_text()\n",
    "        data[section_id] = text\n",
    "    return data"
   ]
  },
  {
   "cell_type": "code",
   "execution_count": null,
   "metadata": {},
   "outputs": [],
   "source": [
    "from tqdm import tqdm\n",
    "\n",
    "data = {}\n",
    "for url in tqdm(urls):\n",
    "    url_data = {'sections': {}}\n",
    "    url_data['sections'] = get_text_content(url)\n",
    "    key = (url\n",
    "        .replace('https://docs.seldon.io/projects/seldon-core/en/v2/', '')\n",
    "        .replace('contents/', '')\n",
    "        .replace('/index.html', '')\n",
    "        .replace('.html', '')\n",
    "    )\n",
    "    url_data['meta'] = {\n",
    "        'url': url,\n",
    "        'key': key,\n",
    "    }\n",
    "    data[key] = url_data"
   ]
  },
  {
   "cell_type": "code",
   "execution_count": null,
   "metadata": {},
   "outputs": [],
   "source": [
    "import json\n",
    "with open('data/scraped-docs.json', 'w') as f:\n",
    "    json.dump(data, f)"
   ]
  },
  {
   "cell_type": "code",
   "execution_count": null,
   "metadata": {},
   "outputs": [],
   "source": [
    "import json\n",
    "with open('data/scraped-docs.json', 'r') as f:\n",
    "    data = json.load(f)"
   ]
  },
  {
   "cell_type": "markdown",
   "metadata": {},
   "source": [
    "## Process Content"
   ]
  },
  {
   "cell_type": "code",
   "execution_count": null,
   "metadata": {},
   "outputs": [],
   "source": [
    "def gen_split_overlap(seq, size, overlap):\n",
    "    seq = seq.split(' ')\n",
    "    if size < 1 or overlap < 0:\n",
    "        raise ValueError('size must be >= 1 and overlap >= 0')\n",
    "\n",
    "    for i in range(0, len(seq) - overlap, size - overlap):\n",
    "        yield ' '.join(seq[i:i + size])"
   ]
  },
  {
   "cell_type": "code",
   "execution_count": null,
   "metadata": {},
   "outputs": [],
   "source": [
    "import uuid\n",
    "\n",
    "items = []\n",
    "\n",
    "for page, page_data in data.items():\n",
    "    page_meta = page_data['meta']\n",
    "    for section, text in page_data['sections'].items():\n",
    "        for text in gen_split_overlap(text, 256, 64):\n",
    "            key = str(uuid.uuid4())\n",
    "            items.append({\n",
    "                'key': key,\n",
    "                'page': page,\n",
    "                'section': section,\n",
    "                'text': text,\n",
    "                'meta': page_meta\n",
    "            })\n",
    "        "
   ]
  },
  {
   "cell_type": "code",
   "execution_count": null,
   "metadata": {},
   "outputs": [],
   "source": [
    "import json\n",
    "with open('data/processed-docs.json', 'w') as f:\n",
    "    json.dump(items, f)"
   ]
  },
  {
   "cell_type": "code",
   "execution_count": null,
   "metadata": {},
   "outputs": [],
   "source": [
    "import json\n",
    "with open('data/processed-docs.json', 'r') as f:\n",
    "    items = json.load(f)"
   ]
  },
  {
   "cell_type": "markdown",
   "metadata": {},
   "source": [
    "## Vectorise content"
   ]
  },
  {
   "cell_type": "code",
   "execution_count": 2,
   "metadata": {},
   "outputs": [],
   "source": [
    "import openai\n",
    "import dotenv\n",
    "import os\n",
    "dotenv.load_dotenv()\n",
    "openai.api_key = os.environ['MLSERVER_MODEL_OPENAI_API_KEY']\n",
    "\n",
    "for item in tqdm(items):\n",
    "    text_string = item['text']\n",
    "    model_id = \"text-embedding-ada-002\"\n",
    "    item['embedding'] = openai.Embedding.create(\n",
    "            input=text_string,\n",
    "            model=model_id\n",
    "        )['data'][0]['embedding']"
   ]
  },
  {
   "cell_type": "code",
   "execution_count": null,
   "metadata": {},
   "outputs": [],
   "source": [
    "import json\n",
    "with open('deployment/jobs/create_vdb/vectorized-docs.json', 'w') as f:\n",
    "    json.dump(items, f)"
   ]
  }
 ],
 "metadata": {
  "kernelspec": {
   "display_name": "venv",
   "language": "python",
   "name": "python3"
  },
  "language_info": {
   "codemirror_mode": {
    "name": "ipython",
    "version": 3
   },
   "file_extension": ".py",
   "mimetype": "text/x-python",
   "name": "python",
   "nbconvert_exporter": "python",
   "pygments_lexer": "ipython3",
   "version": "3.10.13"
  },
  "orig_nbformat": 4
 },
 "nbformat": 4,
 "nbformat_minor": 2
}
